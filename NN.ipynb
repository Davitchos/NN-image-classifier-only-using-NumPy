{
 "cells": [
  {
   "cell_type": "markdown",
   "metadata": {},
   "source": [
    "# Building a Neural Network from Scratch "
   ]
  },
  {
   "cell_type": "markdown",
   "metadata": {},
   "source": [
    "Credit: the contents of this projects are heavily inspired from this video. It served as a tutorial for guidance (https://www.youtube.com/watch?v=w8yWXqWQYmU). Based on the activation functions for the hidden and output layer, the initial parameters were calculated in a different way, which also increased accuracy."
   ]
  },
  {
   "cell_type": "markdown",
   "metadata": {},
   "source": [
    "Task: identify hand-drawn digits. \n",
    "Approach: build a neural network and train it on the MNIST-Dataset (large dataset of 10.000+ hand-drawn digits, 28x28 pixel resolution)"
   ]
  },
  {
   "cell_type": "markdown",
   "metadata": {},
   "source": [
    "## Тhe data\n",
    "\n",
    " "
   ]
  },
  {
   "cell_type": "markdown",
   "metadata": {},
   "source": [
    "$\\textbf{Context}$\n",
    "\n",
    "MNIST is a subset of a larger set available from NIST (it's copied from http://yann.lecun.com/exdb/mnist/)\n",
    "\n",
    "$\\textbf{Content}$\n",
    "\n",
    "The MNIST database of handwritten digits has a training set of 60,000 examples, and a test set of 10,000 examples."
   ]
  },
  {
   "cell_type": "code",
   "execution_count": 17,
   "metadata": {},
   "outputs": [],
   "source": [
    "import numpy as np\n",
    "import pandas as pd\n",
    "from matplotlib import pyplot as plt"
   ]
  },
  {
   "cell_type": "code",
   "execution_count": 2,
   "metadata": {},
   "outputs": [
    {
     "name": "stdout",
     "output_type": "stream",
     "text": [
      "42000\n"
     ]
    }
   ],
   "source": [
    "data = pd.read_csv(\"/Users/davitaghajanyan/Desktop/Projects/NN from Scratch/digit-recognizer/train.csv\")\n",
    "print(len(data))"
   ]
  },
  {
   "cell_type": "code",
   "execution_count": 3,
   "metadata": {},
   "outputs": [
    {
     "data": {
      "text/html": [
       "<div>\n",
       "<style scoped>\n",
       "    .dataframe tbody tr th:only-of-type {\n",
       "        vertical-align: middle;\n",
       "    }\n",
       "\n",
       "    .dataframe tbody tr th {\n",
       "        vertical-align: top;\n",
       "    }\n",
       "\n",
       "    .dataframe thead th {\n",
       "        text-align: right;\n",
       "    }\n",
       "</style>\n",
       "<table border=\"1\" class=\"dataframe\">\n",
       "  <thead>\n",
       "    <tr style=\"text-align: right;\">\n",
       "      <th></th>\n",
       "      <th>label</th>\n",
       "      <th>pixel0</th>\n",
       "      <th>pixel1</th>\n",
       "      <th>pixel2</th>\n",
       "      <th>pixel3</th>\n",
       "      <th>pixel4</th>\n",
       "      <th>pixel5</th>\n",
       "      <th>pixel6</th>\n",
       "      <th>pixel7</th>\n",
       "      <th>pixel8</th>\n",
       "      <th>...</th>\n",
       "      <th>pixel774</th>\n",
       "      <th>pixel775</th>\n",
       "      <th>pixel776</th>\n",
       "      <th>pixel777</th>\n",
       "      <th>pixel778</th>\n",
       "      <th>pixel779</th>\n",
       "      <th>pixel780</th>\n",
       "      <th>pixel781</th>\n",
       "      <th>pixel782</th>\n",
       "      <th>pixel783</th>\n",
       "    </tr>\n",
       "  </thead>\n",
       "  <tbody>\n",
       "    <tr>\n",
       "      <th>0</th>\n",
       "      <td>1</td>\n",
       "      <td>0</td>\n",
       "      <td>0</td>\n",
       "      <td>0</td>\n",
       "      <td>0</td>\n",
       "      <td>0</td>\n",
       "      <td>0</td>\n",
       "      <td>0</td>\n",
       "      <td>0</td>\n",
       "      <td>0</td>\n",
       "      <td>...</td>\n",
       "      <td>0</td>\n",
       "      <td>0</td>\n",
       "      <td>0</td>\n",
       "      <td>0</td>\n",
       "      <td>0</td>\n",
       "      <td>0</td>\n",
       "      <td>0</td>\n",
       "      <td>0</td>\n",
       "      <td>0</td>\n",
       "      <td>0</td>\n",
       "    </tr>\n",
       "    <tr>\n",
       "      <th>1</th>\n",
       "      <td>0</td>\n",
       "      <td>0</td>\n",
       "      <td>0</td>\n",
       "      <td>0</td>\n",
       "      <td>0</td>\n",
       "      <td>0</td>\n",
       "      <td>0</td>\n",
       "      <td>0</td>\n",
       "      <td>0</td>\n",
       "      <td>0</td>\n",
       "      <td>...</td>\n",
       "      <td>0</td>\n",
       "      <td>0</td>\n",
       "      <td>0</td>\n",
       "      <td>0</td>\n",
       "      <td>0</td>\n",
       "      <td>0</td>\n",
       "      <td>0</td>\n",
       "      <td>0</td>\n",
       "      <td>0</td>\n",
       "      <td>0</td>\n",
       "    </tr>\n",
       "    <tr>\n",
       "      <th>2</th>\n",
       "      <td>1</td>\n",
       "      <td>0</td>\n",
       "      <td>0</td>\n",
       "      <td>0</td>\n",
       "      <td>0</td>\n",
       "      <td>0</td>\n",
       "      <td>0</td>\n",
       "      <td>0</td>\n",
       "      <td>0</td>\n",
       "      <td>0</td>\n",
       "      <td>...</td>\n",
       "      <td>0</td>\n",
       "      <td>0</td>\n",
       "      <td>0</td>\n",
       "      <td>0</td>\n",
       "      <td>0</td>\n",
       "      <td>0</td>\n",
       "      <td>0</td>\n",
       "      <td>0</td>\n",
       "      <td>0</td>\n",
       "      <td>0</td>\n",
       "    </tr>\n",
       "    <tr>\n",
       "      <th>3</th>\n",
       "      <td>4</td>\n",
       "      <td>0</td>\n",
       "      <td>0</td>\n",
       "      <td>0</td>\n",
       "      <td>0</td>\n",
       "      <td>0</td>\n",
       "      <td>0</td>\n",
       "      <td>0</td>\n",
       "      <td>0</td>\n",
       "      <td>0</td>\n",
       "      <td>...</td>\n",
       "      <td>0</td>\n",
       "      <td>0</td>\n",
       "      <td>0</td>\n",
       "      <td>0</td>\n",
       "      <td>0</td>\n",
       "      <td>0</td>\n",
       "      <td>0</td>\n",
       "      <td>0</td>\n",
       "      <td>0</td>\n",
       "      <td>0</td>\n",
       "    </tr>\n",
       "    <tr>\n",
       "      <th>4</th>\n",
       "      <td>0</td>\n",
       "      <td>0</td>\n",
       "      <td>0</td>\n",
       "      <td>0</td>\n",
       "      <td>0</td>\n",
       "      <td>0</td>\n",
       "      <td>0</td>\n",
       "      <td>0</td>\n",
       "      <td>0</td>\n",
       "      <td>0</td>\n",
       "      <td>...</td>\n",
       "      <td>0</td>\n",
       "      <td>0</td>\n",
       "      <td>0</td>\n",
       "      <td>0</td>\n",
       "      <td>0</td>\n",
       "      <td>0</td>\n",
       "      <td>0</td>\n",
       "      <td>0</td>\n",
       "      <td>0</td>\n",
       "      <td>0</td>\n",
       "    </tr>\n",
       "  </tbody>\n",
       "</table>\n",
       "<p>5 rows × 785 columns</p>\n",
       "</div>"
      ],
      "text/plain": [
       "   label  pixel0  pixel1  pixel2  pixel3  pixel4  pixel5  pixel6  pixel7  \\\n",
       "0      1       0       0       0       0       0       0       0       0   \n",
       "1      0       0       0       0       0       0       0       0       0   \n",
       "2      1       0       0       0       0       0       0       0       0   \n",
       "3      4       0       0       0       0       0       0       0       0   \n",
       "4      0       0       0       0       0       0       0       0       0   \n",
       "\n",
       "   pixel8  ...  pixel774  pixel775  pixel776  pixel777  pixel778  pixel779  \\\n",
       "0       0  ...         0         0         0         0         0         0   \n",
       "1       0  ...         0         0         0         0         0         0   \n",
       "2       0  ...         0         0         0         0         0         0   \n",
       "3       0  ...         0         0         0         0         0         0   \n",
       "4       0  ...         0         0         0         0         0         0   \n",
       "\n",
       "   pixel780  pixel781  pixel782  pixel783  \n",
       "0         0         0         0         0  \n",
       "1         0         0         0         0  \n",
       "2         0         0         0         0  \n",
       "3         0         0         0         0  \n",
       "4         0         0         0         0  \n",
       "\n",
       "[5 rows x 785 columns]"
      ]
     },
     "execution_count": 3,
     "metadata": {},
     "output_type": "execute_result"
    }
   ],
   "source": [
    "data.head()"
   ]
  },
  {
   "cell_type": "code",
   "execution_count": 4,
   "metadata": {},
   "outputs": [],
   "source": [
    "data = np.array(data)\n",
    "m, n = data.shape\n",
    "np.random.shuffle(data)\n",
    "\n",
    "data_dev = data[0:1000].T\n",
    "Y_dev = data_dev[0]\n",
    "X_dev = data_dev[1:n]\n",
    "\n",
    "data_train = data[1000:m].T\n",
    "Y_train = data_train[0]\n",
    "X_train = data_train[1:n]\n",
    "\n",
    "X_train = X_train / 255.0\n",
    "X_dev   = X_dev   / 255.0\n",
    "Y_train = Y_train.astype(np.int64)\n",
    "Y_dev   = Y_dev.astype(np.int64)\n"
   ]
  },
  {
   "cell_type": "code",
   "execution_count": 5,
   "metadata": {},
   "outputs": [
    {
     "data": {
      "text/plain": [
       "array([[0., 0., 0., ..., 0., 0., 0.],\n",
       "       [0., 0., 0., ..., 0., 0., 0.],\n",
       "       [0., 0., 0., ..., 0., 0., 0.],\n",
       "       ...,\n",
       "       [0., 0., 0., ..., 0., 0., 0.],\n",
       "       [0., 0., 0., ..., 0., 0., 0.],\n",
       "       [0., 0., 0., ..., 0., 0., 0.]], shape=(784, 1000))"
      ]
     },
     "execution_count": 5,
     "metadata": {},
     "output_type": "execute_result"
    }
   ],
   "source": [
    "X_dev"
   ]
  },
  {
   "cell_type": "code",
   "execution_count": 6,
   "metadata": {},
   "outputs": [
    {
     "data": {
      "text/plain": [
       "(array([[-0.07745138,  0.03595552,  0.03260084, ...,  0.00156592,\n",
       "          0.04404694,  0.06220814],\n",
       "        [ 0.06956855, -0.05465991,  0.01982198, ...,  0.02572163,\n",
       "          0.01259972, -0.14284821],\n",
       "        [ 0.04673668, -0.00596875, -0.0311279 , ...,  0.00757913,\n",
       "          0.06907589,  0.02890179],\n",
       "        ...,\n",
       "        [-0.00413249, -0.03181036,  0.03432573, ..., -0.02022306,\n",
       "         -0.04995431, -0.02759928],\n",
       "        [-0.01807008,  0.11229307, -0.00814879, ...,  0.01378474,\n",
       "         -0.09924586, -0.08430028],\n",
       "        [-0.01406449,  0.07512268,  0.00233494, ...,  0.01703538,\n",
       "         -0.0592046 , -0.04035352]], shape=(10, 784)),\n",
       " array([[0.],\n",
       "        [0.],\n",
       "        [0.],\n",
       "        [0.],\n",
       "        [0.],\n",
       "        [0.],\n",
       "        [0.],\n",
       "        [0.],\n",
       "        [0.],\n",
       "        [0.]]),\n",
       " array([[-5.94669035e-01,  2.26679454e-01, -3.65209686e-01,\n",
       "         -3.90461089e-02,  1.44117836e-02, -1.47721208e-01,\n",
       "          1.44926752e-02, -4.22216019e-01, -2.92192894e-01,\n",
       "          3.51365974e-01],\n",
       "        [-3.65455161e-01,  3.76256366e-01,  3.57158894e-02,\n",
       "         -2.15063811e-01, -5.42712563e-01, -4.14214970e-01,\n",
       "          4.08368885e-01, -1.81732305e-01,  1.74883299e-01,\n",
       "         -2.01515629e-01],\n",
       "        [-3.59136829e-01, -6.11596839e-02, -1.09148379e-01,\n",
       "         -3.33245107e-01, -4.21477849e-01,  6.38704905e-01,\n",
       "          3.32306602e-01,  1.19305897e-01, -3.08172050e-02,\n",
       "         -6.13192029e-01],\n",
       "        [ 5.55915819e-01, -3.53752102e-01,  1.17038683e-01,\n",
       "          8.70762683e-02, -1.77718879e-01,  1.29364985e-01,\n",
       "         -1.03420249e-01,  4.29976574e-01, -3.31729016e-01,\n",
       "         -6.54154217e-01],\n",
       "        [-3.20247729e-01, -9.40155608e-02, -1.40250962e-01,\n",
       "         -3.16706532e-02,  6.09672591e-02, -1.25915857e-01,\n",
       "         -1.80614340e-01,  3.28563444e-01, -8.63144718e-02,\n",
       "          2.97090551e-01],\n",
       "        [ 8.62968356e-02, -3.98432713e-01, -1.91814314e-01,\n",
       "          3.03714081e-02,  9.56893514e-02, -9.32134318e-05,\n",
       "         -3.65096022e-01,  3.99563279e-01, -4.34316764e-01,\n",
       "         -9.47263606e-02],\n",
       "        [-8.45399218e-02,  1.46731849e-01, -6.05522818e-01,\n",
       "         -2.29918140e-01,  1.61955752e-02, -5.57868436e-02,\n",
       "         -2.11604940e-01, -1.61962000e-01,  2.70887996e-01,\n",
       "          5.62877715e-02],\n",
       "        [-1.97631186e-01,  3.12300860e-01, -1.98177801e-02,\n",
       "         -1.83499965e-01, -2.55267815e-01,  5.08104387e-02,\n",
       "         -2.22461077e-01, -1.08255609e-01,  8.03482272e-01,\n",
       "          3.37059884e-01],\n",
       "        [ 9.06947285e-01,  1.20229608e-01, -1.75786179e-01,\n",
       "          2.75995462e-01, -1.04344010e-01, -2.51210354e-01,\n",
       "         -1.59138412e-01,  1.20701789e-01, -3.48240281e-01,\n",
       "          1.02925385e-01],\n",
       "        [-1.89102365e-01,  1.80819359e-01,  2.91394909e-01,\n",
       "          1.25736661e-01, -5.48520241e-01,  2.73231584e-02,\n",
       "          3.16968469e-01,  1.01181442e-01, -6.58407812e-02,\n",
       "          1.06163709e-01]]),\n",
       " array([[0.],\n",
       "        [0.],\n",
       "        [0.],\n",
       "        [0.],\n",
       "        [0.],\n",
       "        [0.],\n",
       "        [0.],\n",
       "        [0.],\n",
       "        [0.],\n",
       "        [0.]]))"
      ]
     },
     "execution_count": 6,
     "metadata": {},
     "output_type": "execute_result"
    }
   ],
   "source": [
    "n_x = 784\n",
    "n_h = 10\n",
    "n_y = 10\n",
    "\n",
    "def init_params():\n",
    "    # He for ReLU hidden layer\n",
    "    W1 = np.random.randn(n_h, n_x) * np.sqrt(2.0 / n_x)\n",
    "    b1 = np.full((n_h, 1), 0.0)  # try 0.0 or small 0.01 if you like\n",
    "\n",
    "    # Glorot/Xavier for softmax output layer\n",
    "    W2 = np.random.randn(n_y, n_h) * np.sqrt(2.0 / (n_h + n_y))\n",
    "    b2 = np.zeros((n_y, 1))\n",
    "\n",
    "    return W1, b1, W2, b2\n",
    "\n",
    "init_params()"
   ]
  },
  {
   "cell_type": "code",
   "execution_count": 7,
   "metadata": {},
   "outputs": [],
   "source": [
    "def forward_prop(W1, b1, W2, b2, X):\n",
    "    A0 = X                  # n x m\n",
    "    Z1 = W1.dot(A0) + b1    # 10 x m\n",
    "    A1 = ReLU(Z1)           # 10 x m\n",
    "    Z2 = W2.dot(A1) + b2    # 10 x m\n",
    "    A2 = softmax(Z2)        # 10 x m\n",
    "    return Z1, A1, Z2, A2\n",
    "\n",
    "def ReLU(Z):\n",
    "    return np.maximum(Z, 0) # 10 x m\n",
    "\n",
    "def deriv_ReLU(Z):\n",
    "    return np.where(Z > 0, 1, 0)\n",
    "\n",
    "def softmax(Z):\n",
    "    Z_stable = Z - np.max(Z, axis=0, keepdims=True)\n",
    "    exp_Z = np.exp(Z_stable)\n",
    "    return exp_Z / np.sum(exp_Z, axis=0, keepdims=True)\n",
    "\n",
    "def one_hot(Y):\n",
    "    one_hot_Y = np.zeros((Y.size, Y.max() + 1))\n",
    "    one_hot_Y[np.arange(Y.size), Y] = 1\n",
    "    one_hot_Y = one_hot_Y.T\n",
    "    return one_hot_Y # 10 x m (for each elemenent in m one at the label pos)\n",
    "\n",
    "def backward_prop(Z1, A1, Z2, A2, W2, Y, X):\n",
    "    m = Y.size\n",
    "    one_hot_Y = one_hot(Y)\n",
    "    dZ2 = A2 - one_hot_Y\n",
    "    dW2 = 1 / m * dZ2.dot(A1.T)\n",
    "    db2 = 1 / m * np.sum(dZ2, axis=1, keepdims=True)\n",
    "    dZ1 = W2.T.dot(dZ2) * deriv_ReLU(Z1)\n",
    "    dW1 = 1 / m * dZ1.dot(X.T)\n",
    "    db1 = 1 / m * np.sum(dZ1, axis=1, keepdims=True)\n",
    "    return dW1, db1, dW2, db2\n",
    "\n",
    "def update_params(alpha, W1, dW1, b1, db1, W2, dW2, b2, db2):\n",
    "    W1 = W1 - alpha * dW1\n",
    "    b1 = b1 - alpha * db1\n",
    "    W2 = W2 - alpha * dW2\n",
    "    b2 = b2 - alpha * db2\n",
    "    return W1, b1, W2, b2"
   ]
  },
  {
   "cell_type": "code",
   "execution_count": 8,
   "metadata": {},
   "outputs": [],
   "source": [
    "def get_predictions(A2):\n",
    "    return np.argmax(A2, 0)\n",
    "\n",
    "def get_accuracy(predictions, Y):\n",
    "    return np.sum(predictions == Y) / Y.size\n",
    "\n",
    "def gradient_descent(X, Y, iterations, alpha):\n",
    "    W1, b1, W2, b2 = init_params()\n",
    "    for i in range(iterations):\n",
    "        Z1, A1, Z2, A2 = forward_prop(W1, b1, W2, b2, X)\n",
    "        dW1, db1, dW2, db2 = backward_prop(Z1, A1, Z2, A2, W2, Y, X)\n",
    "        W1, b1, W2, b2 = update_params(alpha, W1, dW1, b1, db1, W2, dW2, b2, db2)\n",
    "        if i % 50 == 0:\n",
    "            print(f\"Iteration: {i}\")\n",
    "            print(f\"Accuracy: {get_accuracy(get_predictions(A2), Y)}\")\n",
    "    return W1, b1, W2, b2"
   ]
  },
  {
   "cell_type": "code",
   "execution_count": 9,
   "metadata": {},
   "outputs": [
    {
     "name": "stdout",
     "output_type": "stream",
     "text": [
      "Iteration: 0\n",
      "Accuracy: 0.08809756097560975\n",
      "Iteration: 50\n",
      "Accuracy: 0.4496829268292683\n",
      "Iteration: 100\n",
      "Accuracy: 0.561609756097561\n",
      "Iteration: 150\n",
      "Accuracy: 0.6956341463414634\n",
      "Iteration: 200\n",
      "Accuracy: 0.7880731707317074\n",
      "Iteration: 250\n",
      "Accuracy: 0.824\n",
      "Iteration: 300\n",
      "Accuracy: 0.8453414634146341\n",
      "Iteration: 350\n",
      "Accuracy: 0.858609756097561\n",
      "Iteration: 400\n",
      "Accuracy: 0.8679024390243902\n",
      "Iteration: 450\n",
      "Accuracy: 0.8740243902439024\n",
      "Iteration: 500\n",
      "Accuracy: 0.8798536585365854\n",
      "Iteration: 550\n",
      "Accuracy: 0.8841463414634146\n",
      "Iteration: 600\n",
      "Accuracy: 0.8877317073170732\n",
      "Iteration: 650\n",
      "Accuracy: 0.8908048780487805\n",
      "Iteration: 700\n",
      "Accuracy: 0.8926341463414634\n",
      "Iteration: 750\n",
      "Accuracy: 0.8953658536585366\n",
      "Iteration: 800\n",
      "Accuracy: 0.8969268292682927\n",
      "Iteration: 850\n",
      "Accuracy: 0.898219512195122\n",
      "Iteration: 900\n",
      "Accuracy: 0.8994878048780488\n",
      "Iteration: 950\n",
      "Accuracy: 0.9010487804878049\n"
     ]
    }
   ],
   "source": [
    "W1, b1, W2, b2 = gradient_descent(X_train, Y_train, 1000, 0.05)\n"
   ]
  },
  {
   "cell_type": "markdown",
   "metadata": {},
   "source": [
    "## Testing"
   ]
  },
  {
   "cell_type": "code",
   "execution_count": 22,
   "metadata": {},
   "outputs": [],
   "source": [
    "def make_predictions(X, W1, b1, W2, b2):\n",
    "    _, _, _, A2 = forward_prop(W1, b1, W2, b2, X)\n",
    "    predictions = get_predictions(A2)\n",
    "    return predictions\n",
    "\n",
    "def test_prediction(index, W1, b1, W2, b2):\n",
    "    current_image = X_dev[:, index, None]\n",
    "    prediction = make_predictions(X_dev[:, index, None], W1, b1, W2, b2)\n",
    "    label = Y_dev[index]\n",
    "    print(\"NN Prediction: \", prediction[0])\n",
    "    print(\"Label: \", label)\n",
    "    \n",
    "    current_image = current_image.reshape((28, 28)) * 255\n",
    "    plt.gray()\n",
    "    plt.imshow(current_image, interpolation='nearest')\n",
    "    plt.show()"
   ]
  },
  {
   "cell_type": "code",
   "execution_count": 88,
   "metadata": {},
   "outputs": [
    {
     "name": "stdout",
     "output_type": "stream",
     "text": [
      "NN Prediction:  9\n",
      "Label:  9\n"
     ]
    },
    {
     "data": {
      "image/png": "[encoded data removed]",
      "text/plain": [
       "<Figure size 640x480 with 1 Axes>"
      ]
     },
     "metadata": {},
     "output_type": "display_data"
    }
   ],
   "source": [
    "import random \n",
    "\n",
    "pred = random.randint(0, 1000 - 1)\n",
    "test_prediction(pred, W1, b1, W2, b2)"
   ]
  }
 ],
 "metadata": {
  "kernelspec": {
   "display_name": "Python 3",
   "language": "python",
   "name": "python3"
  },
  "language_info": {
   "codemirror_mode": {
    "name": "ipython",
    "version": 3
   },
   "file_extension": ".py",
   "mimetype": "text/x-python",
   "name": "python",
   "nbconvert_exporter": "python",
   "pygments_lexer": "ipython3",
   "version": "3.13.3"
  }
 },
 "nbformat": 4,
 "nbformat_minor": 2
}
